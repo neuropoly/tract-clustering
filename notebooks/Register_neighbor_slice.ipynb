{
 "cells": [
  {
   "cell_type": "code",
   "execution_count": 45,
   "metadata": {},
   "outputs": [],
   "source": [
    "# This script loops across slices and registers slice i-1 on slice i and \n",
    "# slice i+1 on slice i. Then, it applies the transformations on the neighbor \n",
    "# slices and outputs a 3d volume (x, y, 3) for each metric."
   ]
  },
  {
   "cell_type": "code",
   "execution_count": 46,
   "metadata": {},
   "outputs": [],
   "source": [
    "%matplotlib inline\n",
    "\n",
    "import seaborn as sns\n",
    "import pickle\n",
    "\n",
    "import numpy as np\n",
    "import scipy as sp\n",
    "import nibabel as nib\n",
    "import pandas as pd\n",
    "import cv2\n",
    "import os\n",
    "import subprocess\n",
    "\n",
    "from matplotlib import pyplot as plt\n",
    "from mpl_toolkits.axes_grid1 import make_axes_locatable\n",
    "from mpl_toolkits.mplot3d import Axes3D\n",
    "from PIL import Image\n",
    "from scipy import misc\n",
    "from subprocess import check_output\n",
    "\n",
    "from sklearn import datasets\n",
    "from sklearn.cluster import *\n",
    "from sklearn.preprocessing import StandardScaler\n",
    "from sklearn.manifold import TSNE\n",
    "from sklearn.feature_extraction.image import grid_to_graph\n",
    "\n",
    "\n",
    "from os import listdir\n",
    "from os.path import isfile, join\n",
    "from os import walk\n",
    "from collections import OrderedDict\n",
    "from collections import Counter\n",
    "\n",
    "sns.set(font_scale=1.4)\n",
    "sns.set_style(\"whitegrid\", {'axes.grid' : False})"
   ]
  },
  {
   "cell_type": "code",
   "execution_count": 47,
   "metadata": {},
   "outputs": [],
   "source": [
    "# Parameters\n",
    "# FOLDER: folder that contains all slices and all metrics\n",
    "Folder= \"/Users/hanam/Documents/Tracts_testing_2/all_levels/\"\n",
    "\n",
    "\n",
    "# METRICS: list of metrics to register, e.g. [avf.nii.gz, ad.nii.gz]\n",
    "Metrics= [\n",
    "    \"Axon_Density\",\n",
    "    \"axon_equiv_diameter\",\n",
    "    \"AVF_corrected\",\n",
    "    \"GR_corrected\",\n",
    "    \"Myelin_thickness\",\n",
    "    \"MVF_corrected\"\n",
    "]\n",
    "\n",
    "# METRIC_REF: file name of metric to use as reference for registration\n",
    "#Metric_ref= nib.load(Folder/C1/Sample1_AD_nii.gz)\n"
   ]
  },
  {
   "cell_type": "code",
   "execution_count": 48,
   "metadata": {},
   "outputs": [
    {
     "data": {
      "text/plain": [
       "'C1'"
      ]
     },
     "execution_count": 48,
     "metadata": {},
     "output_type": "execute_result"
    }
   ],
   "source": [
    "# Read FOLDER that contains all slices and all metrics\n",
    "list_levels= next(walk(Folder))[1]\n",
    "list_levels[0]"
   ]
  },
  {
   "cell_type": "code",
   "execution_count": 49,
   "metadata": {},
   "outputs": [
    {
     "data": {
      "text/plain": [
       "31"
      ]
     },
     "execution_count": 49,
     "metadata": {},
     "output_type": "execute_result"
    }
   ],
   "source": [
    "len(list_levels)"
   ]
  },
  {
   "cell_type": "code",
   "execution_count": 50,
   "metadata": {},
   "outputs": [],
   "source": [
    "#Create array of levels to have levels in proper order\n",
    "array_levels= [\"C1\",\n",
    "               \"C2\",\n",
    "               \"C3\",\n",
    "               \"C4\",\n",
    "               \"C5\",\n",
    "               \"C6\",\n",
    "               \"C7\",\n",
    "               \"C8\",\n",
    "               \"T1\",\n",
    "               \"T2\",\n",
    "               \"T3\",\n",
    "               \"T4\",\n",
    "               \"T5\",\n",
    "               \"T6\",\n",
    "               \"T7\",\n",
    "               \"T8\",\n",
    "               \"T9\",\n",
    "               \"T10\",\n",
    "               \"T11\",\n",
    "               \"T12\",\n",
    "               \"T13\",\n",
    "               \"L1\",\n",
    "               \"L2\",\n",
    "               \"L3\",\n",
    "               \"L4\",\n",
    "               \"L5\",\n",
    "               \"L6\",\n",
    "               \"S1\",\n",
    "               \"S2\",\n",
    "               \"S3\",\n",
    "               \"S4\"\n",
    "              ]"
   ]
  },
  {
   "cell_type": "code",
   "execution_count": 51,
   "metadata": {
    "scrolled": false
   },
   "outputs": [],
   "source": [
    "filelist = []\n",
    "for folder_name in array_levels:\n",
    "    folder_path = os.path.join(Folder, folder_name)\n",
    "    filename = os.path.join(folder_path, \"Volume4D_sym_cleaned.nii.gz\")\n",
    "    filelist.append(filename)\n",
    "\n",
    "global filelist\n",
    "\n",
    "# for folder_name in array_levels:\n",
    "#     folder_path = os.path.join(Folder, folder_name)\n",
    "#     print(folder_path)\n",
    "#     filename = os.path.join(folder_path, \"Volume4D_sym_cleaned.nii.gz\")\n",
    "#     print(filename)"
   ]
  },
  {
   "cell_type": "code",
   "execution_count": 52,
   "metadata": {},
   "outputs": [
    {
     "name": "stdout",
     "output_type": "stream",
     "text": [
      "/Users/hanam/Documents/Tracts_testing_2/all_levels/C1/Volume4D_sym_cleaned.nii.gz\n",
      "/Users/hanam/Documents/Tracts_testing_2/all_levels/C2/Volume4D_sym_cleaned.nii.gz\n",
      "/Users/hanam/Documents/Tracts_testing_2/all_levels/C3/Volume4D_sym_cleaned.nii.gz\n",
      "/Users/hanam/Documents/Tracts_testing_2/all_levels/C4/Volume4D_sym_cleaned.nii.gz\n",
      "/Users/hanam/Documents/Tracts_testing_2/all_levels/C5/Volume4D_sym_cleaned.nii.gz\n",
      "/Users/hanam/Documents/Tracts_testing_2/all_levels/C6/Volume4D_sym_cleaned.nii.gz\n",
      "/Users/hanam/Documents/Tracts_testing_2/all_levels/C7/Volume4D_sym_cleaned.nii.gz\n",
      "/Users/hanam/Documents/Tracts_testing_2/all_levels/C8/Volume4D_sym_cleaned.nii.gz\n",
      "/Users/hanam/Documents/Tracts_testing_2/all_levels/T1/Volume4D_sym_cleaned.nii.gz\n",
      "/Users/hanam/Documents/Tracts_testing_2/all_levels/T2/Volume4D_sym_cleaned.nii.gz\n",
      "/Users/hanam/Documents/Tracts_testing_2/all_levels/T3/Volume4D_sym_cleaned.nii.gz\n",
      "/Users/hanam/Documents/Tracts_testing_2/all_levels/T4/Volume4D_sym_cleaned.nii.gz\n",
      "/Users/hanam/Documents/Tracts_testing_2/all_levels/T5/Volume4D_sym_cleaned.nii.gz\n",
      "/Users/hanam/Documents/Tracts_testing_2/all_levels/T6/Volume4D_sym_cleaned.nii.gz\n",
      "/Users/hanam/Documents/Tracts_testing_2/all_levels/T7/Volume4D_sym_cleaned.nii.gz\n",
      "/Users/hanam/Documents/Tracts_testing_2/all_levels/T8/Volume4D_sym_cleaned.nii.gz\n",
      "/Users/hanam/Documents/Tracts_testing_2/all_levels/T9/Volume4D_sym_cleaned.nii.gz\n",
      "/Users/hanam/Documents/Tracts_testing_2/all_levels/T10/Volume4D_sym_cleaned.nii.gz\n",
      "/Users/hanam/Documents/Tracts_testing_2/all_levels/T11/Volume4D_sym_cleaned.nii.gz\n",
      "/Users/hanam/Documents/Tracts_testing_2/all_levels/T12/Volume4D_sym_cleaned.nii.gz\n",
      "/Users/hanam/Documents/Tracts_testing_2/all_levels/T13/Volume4D_sym_cleaned.nii.gz\n",
      "/Users/hanam/Documents/Tracts_testing_2/all_levels/L1/Volume4D_sym_cleaned.nii.gz\n",
      "/Users/hanam/Documents/Tracts_testing_2/all_levels/L2/Volume4D_sym_cleaned.nii.gz\n",
      "/Users/hanam/Documents/Tracts_testing_2/all_levels/L3/Volume4D_sym_cleaned.nii.gz\n",
      "/Users/hanam/Documents/Tracts_testing_2/all_levels/L4/Volume4D_sym_cleaned.nii.gz\n",
      "/Users/hanam/Documents/Tracts_testing_2/all_levels/L5/Volume4D_sym_cleaned.nii.gz\n",
      "/Users/hanam/Documents/Tracts_testing_2/all_levels/L6/Volume4D_sym_cleaned.nii.gz\n",
      "/Users/hanam/Documents/Tracts_testing_2/all_levels/S1/Volume4D_sym_cleaned.nii.gz\n",
      "/Users/hanam/Documents/Tracts_testing_2/all_levels/S2/Volume4D_sym_cleaned.nii.gz\n",
      "/Users/hanam/Documents/Tracts_testing_2/all_levels/S3/Volume4D_sym_cleaned.nii.gz\n",
      "/Users/hanam/Documents/Tracts_testing_2/all_levels/S4/Volume4D_sym_cleaned.nii.gz\n"
     ]
    }
   ],
   "source": [
    "for x in filelist:\n",
    "    print(x)"
   ]
  },
  {
   "cell_type": "code",
   "execution_count": 53,
   "metadata": {},
   "outputs": [
    {
     "data": {
      "text/plain": [
       "<nibabel.nifti1.Nifti1Image at 0x127d16250>"
      ]
     },
     "execution_count": 53,
     "metadata": {},
     "output_type": "execute_result"
    }
   ],
   "source": [
    "nib.load(filelist[0])"
   ]
  },
  {
   "cell_type": "code",
   "execution_count": 54,
   "metadata": {},
   "outputs": [
    {
     "name": "stdout",
     "output_type": "stream",
     "text": [
      "<class 'nibabel.nifti1.Nifti1Image'>\n",
      "data shape (151, 151, 1, 6)\n",
      "affine: \n",
      "[[0.05 0.   0.   0.05]\n",
      " [0.   0.05 0.   0.05]\n",
      " [0.   0.   1.   1.  ]\n",
      " [0.   0.   0.   1.  ]]\n",
      "metadata:\n",
      "<class 'nibabel.nifti1.Nifti1Header'> object, endian='<'\n",
      "sizeof_hdr      : 348\n",
      "data_type       : \n",
      "db_name         : \n",
      "extents         : 0\n",
      "session_error   : 0\n",
      "regular         : r\n",
      "dim_info        : 0\n",
      "dim             : [  4 151 151   1   6   1   1   1]\n",
      "intent_p1       : 0.0\n",
      "intent_p2       : 0.0\n",
      "intent_p3       : 0.0\n",
      "intent_code     : none\n",
      "datatype        : float32\n",
      "bitpix          : 32\n",
      "slice_start     : 0\n",
      "pixdim          : [1.   0.05 0.05 1.   1.   1.   1.   1.  ]\n",
      "vox_offset      : 0.0\n",
      "scl_slope       : nan\n",
      "scl_inter       : nan\n",
      "slice_end       : 0\n",
      "slice_code      : unknown\n",
      "xyzt_units      : 0\n",
      "cal_max         : 0.0\n",
      "cal_min         : 0.0\n",
      "slice_duration  : 0.0\n",
      "toffset         : 0.0\n",
      "glmax           : 498\n",
      "glmin           : 0\n",
      "descrip         : \n",
      "aux_file        : none\n",
      "qform_code      : unknown\n",
      "sform_code      : scanner\n",
      "quatern_b       : 0.0\n",
      "quatern_c       : 0.0\n",
      "quatern_d       : 0.0\n",
      "qoffset_x       : 0.0\n",
      "qoffset_y       : 0.0\n",
      "qoffset_z       : 0.0\n",
      "srow_x          : [0.05 0.   0.   0.05]\n",
      "srow_y          : [0.   0.05 0.   0.05]\n",
      "srow_z          : [0. 0. 1. 1.]\n",
      "intent_name     : \n",
      "magic           : n+1\n"
     ]
    }
   ],
   "source": [
    "x= nib.load(filelist[1])\n",
    "print (x)"
   ]
  },
  {
   "cell_type": "code",
   "execution_count": 55,
   "metadata": {},
   "outputs": [],
   "source": [
    "def preprocess_file(p,c,n):\n",
    "    \n",
    "    #1. Open each file\n",
    "    x= nib.load(filelist[p])\n",
    "    y= nib.load(filelist[c])\n",
    "    z= nib.load(filelist[n])\n",
    "    \n",
    "    #2. Filter the metric you want\n",
    "    p= x.get_data()\n",
    "    p= p.transpose((1,0,2,3))\n",
    "    p= p.squeeze(axis=2)\n",
    "    p= p[...,0]\n",
    "    \n",
    "    c= y.get_data()\n",
    "    c= c.transpose((1,0,2,3))\n",
    "    c= c.squeeze(axis=2)\n",
    "    c= c[...,0]\n",
    "    \n",
    "    n= z.get_data()\n",
    "    n= n.transpose((1,0,2,3))\n",
    "    n= n.squeeze(axis=2)\n",
    "    n= n[...,0]\n",
    "    \n",
    "    #3. Create a new file for each file, name it \"{}_pre.nii.gz\".format(p)\n",
    "    tmp_p= nib.Nifti1Image(p, x.affine, x.header)\n",
    "    tmp_c= nib.Nifti1Image(c, y.affine, y.header)\n",
    "    tmp_n= nib.Nifti1Image(n, z.affine, z.header)\n",
    "    \n",
    "    return \"\", \"\", \"\""
   ]
  },
  {
   "cell_type": "code",
   "execution_count": 63,
   "metadata": {
    "scrolled": true
   },
   "outputs": [
    {
     "name": "stdout",
     "output_type": "stream",
     "text": [
      "isct_antsRegistration stdout output:\n",
      "All_Command_lines_OK\n",
      "Using double precision for computations.\n",
      "  number of levels = 2\n",
      "  number of levels = 4\n",
      "\n"
     ]
    },
    {
     "ename": "CalledProcessError",
     "evalue": "Command '['isct_antsRegistration', '--dimensionality', '2', '--transform', 'Affine[0.5]', '--metric', 'MeanSquares[tc, tn, 1, 5]', '--convergence', '100x100', '--shrink-factors', '8x4', '--smoothing-sigmas', '1x2vox', '--transform', 'bsplinesyn[0.5,2]', '--metric', 'MeanSquares[tc, tn, 1, 4]', '--convergence', '100x100x100x100', '--shrink-factors', '8x4x2x1', '--smoothing-sigmas', '0x0x0x0vox', '--output', '/Users/hanam/Documents/Tracts_testing_2/all_levels/warp_tp_tc', '--interpolation', 'BSpline[3]', '--verbose', '1']' returned non-zero exit status -11",
     "output_type": "error",
     "traceback": [
      "\u001b[0;31m---------------------------------------------------------------------------\u001b[0m",
      "\u001b[0;31mCalledProcessError\u001b[0m                        Traceback (most recent call last)",
      "\u001b[0;32m<ipython-input-63-989bfcecd53e>\u001b[0m in \u001b[0;36m<module>\u001b[0;34m()\u001b[0m\n\u001b[1;32m     37\u001b[0m             \u001b[0;34m\"--convergence\"\u001b[0m\u001b[0;34m,\u001b[0m \u001b[0;34m\"100x100x100x100\"\u001b[0m\u001b[0;34m,\u001b[0m \u001b[0;34m\"--shrink-factors\"\u001b[0m\u001b[0;34m,\u001b[0m \u001b[0;34m\"8x4x2x1\"\u001b[0m\u001b[0;34m,\u001b[0m \u001b[0;34m\"--smoothing-sigmas\"\u001b[0m\u001b[0;34m,\u001b[0m \u001b[0;34m\"0x0x0x0vox\"\u001b[0m\u001b[0;34m,\u001b[0m\u001b[0;34m\u001b[0m\u001b[0m\n\u001b[1;32m     38\u001b[0m             \u001b[0;34m\"--output\"\u001b[0m\u001b[0;34m,\u001b[0m \u001b[0;34m\"/Users/hanam/Documents/Tracts_testing_2/all_levels/warp_tp_tc\"\u001b[0m\u001b[0;34m,\u001b[0m\u001b[0;34m\u001b[0m\u001b[0m\n\u001b[0;32m---> 39\u001b[0;31m             \"--interpolation\", \"BSpline[3]\", \"--verbose\", \"1\"])\n\u001b[0m\u001b[1;32m     40\u001b[0m \u001b[0;34m\u001b[0m\u001b[0m\n\u001b[1;32m     41\u001b[0m     print(filelist[previous],\n",
      "\u001b[0;32m/System/Library/Frameworks/Python.framework/Versions/2.7/lib/python2.7/subprocess.pyc\u001b[0m in \u001b[0;36mcheck_output\u001b[0;34m(*popenargs, **kwargs)\u001b[0m\n\u001b[1;32m    571\u001b[0m         \u001b[0;32mif\u001b[0m \u001b[0mcmd\u001b[0m \u001b[0;32mis\u001b[0m \u001b[0mNone\u001b[0m\u001b[0;34m:\u001b[0m\u001b[0;34m\u001b[0m\u001b[0m\n\u001b[1;32m    572\u001b[0m             \u001b[0mcmd\u001b[0m \u001b[0;34m=\u001b[0m \u001b[0mpopenargs\u001b[0m\u001b[0;34m[\u001b[0m\u001b[0;36m0\u001b[0m\u001b[0;34m]\u001b[0m\u001b[0;34m\u001b[0m\u001b[0m\n\u001b[0;32m--> 573\u001b[0;31m         \u001b[0;32mraise\u001b[0m \u001b[0mCalledProcessError\u001b[0m\u001b[0;34m(\u001b[0m\u001b[0mretcode\u001b[0m\u001b[0;34m,\u001b[0m \u001b[0mcmd\u001b[0m\u001b[0;34m,\u001b[0m \u001b[0moutput\u001b[0m\u001b[0;34m=\u001b[0m\u001b[0moutput\u001b[0m\u001b[0;34m)\u001b[0m\u001b[0;34m\u001b[0m\u001b[0m\n\u001b[0m\u001b[1;32m    574\u001b[0m     \u001b[0;32mreturn\u001b[0m \u001b[0moutput\u001b[0m\u001b[0;34m\u001b[0m\u001b[0m\n\u001b[1;32m    575\u001b[0m \u001b[0;34m\u001b[0m\u001b[0m\n",
      "\u001b[0;31mCalledProcessError\u001b[0m: Command '['isct_antsRegistration', '--dimensionality', '2', '--transform', 'Affine[0.5]', '--metric', 'MeanSquares[tc, tn, 1, 5]', '--convergence', '100x100', '--shrink-factors', '8x4', '--smoothing-sigmas', '1x2vox', '--transform', 'bsplinesyn[0.5,2]', '--metric', 'MeanSquares[tc, tn, 1, 4]', '--convergence', '100x100x100x100', '--shrink-factors', '8x4x2x1', '--smoothing-sigmas', '0x0x0x0vox', '--output', '/Users/hanam/Documents/Tracts_testing_2/all_levels/warp_tp_tc', '--interpolation', 'BSpline[3]', '--verbose', '1']' returned non-zero exit status -11"
     ]
    }
   ],
   "source": [
    "for i in range(1, len(filelist)-1):\n",
    "    previous = i - 1\n",
    "    current = i\n",
    "    nex = i + 1\n",
    "    \n",
    "    tp, tc, tn = preprocess_file(previous,\n",
    "                                 current,\n",
    "                                 nex)\n",
    "    \n",
    "       \n",
    "    #   register METRIC_REF(i-1) --> METRIC_REF(i)\n",
    "    #     # outputs warp(i-1->1)\n",
    "\n",
    "    \n",
    "    \n",
    "    try:\n",
    "        subprocess.check_output([\"isct_antsRegistration\", \"--dimensionality\", \"2\", \"--transform\", \"Affine[0.5]\", \n",
    "            \"--metric\", \"MeanSquares[tc, tp, 1, 5]\",\n",
    "            \"--convergence\", \"100x100\", \"--shrink-factors\", \"8x4\", \"--smoothing-sigmas\", \"1x2vox\",\n",
    "            \"--transform\", \"bsplinesyn[0.5,2]\",\n",
    "            \"--metric\", \"MeanSquares[tc, tp, 1, 4]\",\n",
    "            \"--convergence\", \"100x100x100x100\", \"--shrink-factors\", \"8x4x2x1\", \"--smoothing-sigmas\", \"0x0x0x0vox\",\n",
    "            \"--output\", \"/Users/hanam/Documents/Tracts_testing_2/all_levels/warp_tp_tc\",\n",
    "            \"--interpolation\", \"BSpline[3]\", \"--verbose\", \"1\"])\n",
    "\n",
    "    except subprocess.CalledProcessError, e:\n",
    "         print \"isct_antsRegistration stdout output:\\n\", e.output\n",
    "\n",
    "    \n",
    "    #   register METRIC_REF(i+1) --> METRIC_REF(i)\n",
    "    #     # outputs warp(i+1->1)\n",
    "    subprocess.check_output([\"isct_antsRegistration\", \"--dimensionality\", \"2\", \"--transform\", \"Affine[0.5]\",\n",
    "            \"--metric\", \"MeanSquares[tc, tn, 1, 5]\",\n",
    "            \"--convergence\", \"100x100\", \"--shrink-factors\", \"8x4\", \"--smoothing-sigmas\", \"1x2vox\",\n",
    "            \"--transform\", \"bsplinesyn[0.5,2]\",\n",
    "            \"--metric\", \"MeanSquares[tc, tn, 1, 4]\",\n",
    "            \"--convergence\", \"100x100x100x100\", \"--shrink-factors\", \"8x4x2x1\", \"--smoothing-sigmas\", \"0x0x0x0vox\",\n",
    "            \"--output\", \"/Users/hanam/Documents/Tracts_testing_2/all_levels/warp_tp_tc\",\n",
    "            \"--interpolation\", \"BSpline[3]\", \"--verbose\", \"1\"])\n",
    "\n",
    "    print(filelist[previous],\n",
    "          filelist[current],\n",
    "          filelist[nex])\n",
    "    "
   ]
  },
  {
   "cell_type": "code",
   "execution_count": 37,
   "metadata": {},
   "outputs": [
    {
     "ename": "SyntaxError",
     "evalue": "invalid syntax (<ipython-input-37-bd25957d298a>, line 3)",
     "output_type": "error",
     "traceback": [
      "\u001b[0;36m  File \u001b[0;32m\"<ipython-input-37-bd25957d298a>\"\u001b[0;36m, line \u001b[0;32m3\u001b[0m\n\u001b[0;31m    for i in range(1 to len(list_levels)+1)\u001b[0m\n\u001b[0m                      ^\u001b[0m\n\u001b[0;31mSyntaxError\u001b[0m\u001b[0;31m:\u001b[0m invalid syntax\n"
     ]
    }
   ],
   "source": [
    "# Apply transfo across metrics\n",
    "#   Loop across slices (i)\n",
    "    for i in range(1, len(filelist)-1):\n",
    "\n",
    "        # Loop across metrics (m)\n",
    "        cd (list_levels[i-1])\n",
    "        \n",
    "    \n",
    "#     apply warp(i-1->1) on METRICS[m]\n",
    "#       output: METRICS[m, i-1]_r\n",
    "\n",
    "\n",
    "#     apply warp(i+1->1) on METRICS[m]\n",
    "#       output: METRICS[m, i+1]_r\n",
    "\n",
    "\n",
    "#     concatenate: METRICS[m, i-1]_r, METRICS[m, i]_r, METRICS[m, i+1]_r\n",
    "#       output: METRICS3D[m, i] --> 3D (x, y, 3) metric"
   ]
  },
  {
   "cell_type": "code",
   "execution_count": null,
   "metadata": {},
   "outputs": [],
   "source": []
  }
 ],
 "metadata": {
  "kernelspec": {
   "display_name": "Python 2",
   "language": "python",
   "name": "python2"
  },
  "language_info": {
   "codemirror_mode": {
    "name": "ipython",
    "version": 2
   },
   "file_extension": ".py",
   "mimetype": "text/x-python",
   "name": "python",
   "nbconvert_exporter": "python",
   "pygments_lexer": "ipython2",
   "version": "2.7.10"
  }
 },
 "nbformat": 4,
 "nbformat_minor": 2
}
